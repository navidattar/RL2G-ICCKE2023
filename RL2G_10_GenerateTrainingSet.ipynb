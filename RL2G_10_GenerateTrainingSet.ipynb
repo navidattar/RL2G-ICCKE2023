{
 "cells": [
  {
   "cell_type": "markdown",
   "metadata": {},
   "source": [
    "# Loading Dependencies"
   ]
  },
  {
   "cell_type": "code",
   "execution_count": 2,
   "metadata": {
    "colab": {
     "base_uri": "https://localhost:8080/"
    },
    "executionInfo": {
     "elapsed": 73933,
     "status": "ok",
     "timestamp": 1684948734209,
     "user": {
      "displayName": "Navid Akhavan",
      "userId": "14791862893760776208"
     },
     "user_tz": -210
    },
    "id": "0agPjoMAD9oy",
    "outputId": "7b5e1d6e-b3fd-4d9e-e3a0-9257ceac06c0"
   },
   "outputs": [
    {
     "name": "stdout",
     "output_type": "stream",
     "text": [
      "Mounted at /content/drive\n"
     ]
    }
   ],
   "source": [
    "import warnings\n",
    "import pkg_resources\n",
    "warnings.filterwarnings('ignore')\n",
    "pkg_resources.require(\"scipy==1.8\")\n",
    "pkg_resources.require(\"networkx==2.7\")\n",
    "import scipy\n",
    "import networkx as nx"
   ]
  },
  {
   "cell_type": "code",
   "execution_count": 3,
   "metadata": {
    "executionInfo": {
     "elapsed": 6472,
     "status": "ok",
     "timestamp": 1684948740678,
     "user": {
      "displayName": "Navid Akhavan",
      "userId": "14791862893760776208"
     },
     "user_tz": -210
    },
    "id": "wMu_30evby3F"
   },
   "outputs": [],
   "source": [
    "import pickle\n",
    "from src.models import *\n",
    "from src.utils import *\n",
    "from src.utils_data import *\n",
    "import multiprocess\n",
    "import argparse\n",
    "import time\n",
    "from torch.utils.data import TensorDataset, DataLoader\n",
    "from torch.utils.data import random_split\n",
    "import numpy as np\n",
    "import networkx as nx\n",
    "import scipy\n",
    "import pickle\n",
    "from functools import partial\n",
    "import random\n",
    "from random import randint"
   ]
  },
  {
   "cell_type": "markdown",
   "metadata": {},
   "source": [
    "# Generating Data"
   ]
  },
  {
   "cell_type": "code",
   "execution_count": 6,
   "metadata": {
    "executionInfo": {
     "elapsed": 11,
     "status": "ok",
     "timestamp": 1684948740679,
     "user": {
      "displayName": "Navid Akhavan",
      "userId": "14791862893760776208"
     },
     "user_tz": -210
    },
    "id": "27zvW9JrXveJ"
   },
   "outputs": [],
   "source": [
    "graph_size = 10"
   ]
  },
  {
   "cell_type": "code",
   "execution_count": 8,
   "metadata": {
    "executionInfo": {
     "elapsed": 534468,
     "status": "ok",
     "timestamp": 1684949275139,
     "user": {
      "displayName": "Navid Akhavan",
      "userId": "14791862893760776208"
     },
     "user_tz": -210
    },
    "id": "0iAr5Dlc3UNR"
   },
   "outputs": [],
   "source": [
    "main_data = dict()\n",
    "\n",
    "weight = random.choice(['gaussian', 'uniform', 'lognormal'])\n",
    "temp_data = generate_ER_parallel(num_samples=128, num_signals=4000, num_nodes=graph_size,\n",
    "                                                         graph_hyper={'p':0.5}, weighted=weight, weight_scale=True)\n",
    "main_data['z'] = temp_data['z']\n",
    "main_data['W'] = temp_data['W']\n",
    "\n",
    "x = 1375\n",
    "Ps_lower, Ps_upper, scale = 0.1, 1, 1/2\n",
    "Ps = scipy.stats.truncexpon(b=(Ps_upper-Ps_lower)/scale, loc=Ps_lower, scale=scale).rvs(x)\n",
    "\n",
    "for p in Ps:\n",
    "    weight = random.choice(['gaussian', 'uniform', 'lognormal'])\n",
    "    temp_data = generate_ER_parallel(num_samples=32, num_signals=4000, num_nodes=graph_size,\n",
    "                                                            graph_hyper={'p':p}, weighted=weight, weight_scale=True)\n",
    "    main_data['z'] += temp_data['z']\n",
    "    main_data['W'] += temp_data['W']"
   ]
  },
  {
   "cell_type": "code",
   "execution_count": 9,
   "metadata": {
    "colab": {
     "base_uri": "https://localhost:8080/"
    },
    "executionInfo": {
     "elapsed": 10,
     "status": "ok",
     "timestamp": 1684949275139,
     "user": {
      "displayName": "Navid Akhavan",
      "userId": "14791862893760776208"
     },
     "user_tz": -210
    },
    "id": "LS6tVCuA-C2W",
    "outputId": "6ea60629-e43d-4cf9-d545-4b977b69df7f"
   },
   "outputs": [
    {
     "data": {
      "text/plain": [
       "44128"
      ]
     },
     "execution_count": 9,
     "metadata": {},
     "output_type": "execute_result"
    }
   ],
   "source": [
    "len(main_data['z'])"
   ]
  },
  {
   "cell_type": "markdown",
   "metadata": {
    "id": "rk1yWq_65dYY"
   },
   "source": [
    "# Saving the Dataset"
   ]
  },
  {
   "cell_type": "code",
   "execution_count": 10,
   "metadata": {
    "executionInfo": {
     "elapsed": 1072,
     "status": "ok",
     "timestamp": 1684949276206,
     "user": {
      "displayName": "Navid Akhavan",
      "userId": "14791862893760776208"
     },
     "user_tz": -210
    },
    "id": "l6ay9bi2DBZ6"
   },
   "outputs": [],
   "source": [
    "with open('Saved Datasets/dataset_TrainingSet_{}nodes.pickle'.format(graph_size), 'wb') as handle:\n",
    "    pickle.dump(main_data, handle, protocol=4)"
   ]
  }
 ],
 "metadata": {
  "colab": {
   "authorship_tag": "ABX9TyObCqAFhYTEhp9H9Z7RyPMh",
   "provenance": []
  },
  "gpuClass": "standard",
  "kernelspec": {
   "display_name": "Python 3 (ipykernel)",
   "language": "python",
   "name": "python3"
  },
  "language_info": {
   "codemirror_mode": {
    "name": "ipython",
    "version": 3
   },
   "file_extension": ".py",
   "mimetype": "text/x-python",
   "name": "python",
   "nbconvert_exporter": "python",
   "pygments_lexer": "ipython3",
   "version": "3.10.11"
  }
 },
 "nbformat": 4,
 "nbformat_minor": 4
}
